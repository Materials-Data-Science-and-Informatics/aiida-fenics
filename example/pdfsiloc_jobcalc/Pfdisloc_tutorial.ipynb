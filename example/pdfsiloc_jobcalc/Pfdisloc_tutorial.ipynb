{
 "cells": [
  {
   "cell_type": "markdown",
   "id": "13031393-30fe-48cf-82a0-3b992fa09314",
   "metadata": {},
   "source": [
    "# Tutorial Notebook to run a Pfdisloc simulation job"
   ]
  },
  {
   "cell_type": "code",
   "execution_count": null,
   "id": "5f16dcdf-8b27-4f40-9fff-2adb47f1be66",
   "metadata": {},
   "outputs": [],
   "source": [
    "# prior to this you need"
   ]
  },
  {
   "cell_type": "code",
   "execution_count": null,
   "id": "d5cff361-c705-466f-8e46-599ccabfd101",
   "metadata": {},
   "outputs": [],
   "source": [
    "# imports, we have to load the aiida db environment\n",
    "from aiida import load_profile\n",
    "load_profile()"
   ]
  },
  {
   "cell_type": "code",
   "execution_count": null,
   "id": "d1fe5735-be80-4b66-8c1d-aa973b372a0f",
   "metadata": {},
   "outputs": [],
   "source": [
    "from aiida.orm import load_code\n",
    "from aiida.engine import run, submit\n",
    "from aiida import orm\n",
    "from aiida.orm import CalculationFactory"
   ]
  },
  {
   "cell_type": "code",
   "execution_count": null,
   "id": "13f975bd-fbcb-40d4-87a8-a9227ad04f67",
   "metadata": {},
   "outputs": [],
   "source": [
    "PdfdislocCalculation = CalculationFactory('fenics.pfdisloc')"
   ]
  },
  {
   "cell_type": "markdown",
   "id": "23aaddda-8d82-445d-bbe7-5de71e1eb7f6",
   "metadata": {},
   "source": [
    "# Basic stuff, prior"
   ]
  },
  {
   "cell_type": "markdown",
   "id": "c7f3455a-7909-4a1b-984c-dccff81011a6",
   "metadata": {},
   "source": [
    "check the setup and if the daemon is running"
   ]
  },
  {
   "cell_type": "code",
   "execution_count": null,
   "id": "53ad5bdb-d1e3-428b-9513-2abf4af9a361",
   "metadata": {},
   "outputs": [],
   "source": [
    "!verdi status"
   ]
  },
  {
   "cell_type": "code",
   "execution_count": null,
   "id": "3e922056-9223-4ac0-b8b5-05c1b6aadfd9",
   "metadata": {},
   "outputs": [],
   "source": [
    "!verdi daemon status"
   ]
  },
  {
   "cell_type": "markdown",
   "id": "2712e62d-dfa6-42ae-b6ad-46d154c59784",
   "metadata": {},
   "source": [
    "check what codes are setup in your database"
   ]
  },
  {
   "cell_type": "code",
   "execution_count": null,
   "id": "b30429a2-36bd-4514-9df0-2a25bc7c317e",
   "metadata": {},
   "outputs": [],
   "source": [
    "!verdi code list -a"
   ]
  },
  {
   "cell_type": "code",
   "execution_count": null,
   "id": "586054cb-90cb-40b8-a390-d8a47c4adacf",
   "metadata": {},
   "outputs": [],
   "source": [
    "# prior to this you need to have setup a code in you data base with the label 'pdfdisloc_0_1_0' and a computer in this case 'jureca'\n",
    "# How to do this is described here: https://aiida.readthedocs.io/projects/aiida-core/en/latest/howto/run_codes.html\n",
    "# Also see example, jureca setup\n",
    "# If you want to run the code on a different computer or version you have to set it up and change the label below\n",
    "code = load_code('pdfdisloc_0_1_0@jureca')"
   ]
  },
  {
   "cell_type": "markdown",
   "id": "bed3f3e0-a0a3-49e9-8868-62689bd4c65f",
   "metadata": {},
   "source": [
    "# Preparing the inputs"
   ]
  },
  {
   "cell_type": "code",
   "execution_count": null,
   "id": "6a15d4f1-dae7-4677-9fd0-a12c06d56218",
   "metadata": {},
   "outputs": [],
   "source": [
    "config_filepath = './pf_penny_shaped_crack.yaml'\n",
    "model_filepath = './martensite_seed.py'"
   ]
  },
  {
   "cell_type": "code",
   "execution_count": null,
   "id": "ee821d81-69e0-4499-aa33-21fd03a9fa4d",
   "metadata": {},
   "outputs": [],
   "source": [
    "# create a nodes, these are not yet stored in the database, but will be on input into a calculations\n",
    "config_para_node = orm.Dict(config_dict)\n",
    "model = orm.SingleFileData(model_filepath)\n",
    "inputs = {'code': code, 'config' : config_para_node, 'model': model}"
   ]
  },
  {
   "cell_type": "code",
   "execution_count": null,
   "id": "5870994d-331c-46f4-966e-e506d284d445",
   "metadata": {},
   "outputs": [],
   "source": [
    "# this would run with default metadata and resources, which depending on the machine does not work\n",
    "# also see https://aiida.readthedocs.io/projects/aiida-core/en/latest/topics/schedulers.html?highlight=metadata.options%20#job-resources\n",
    "# and https://aiida.readthedocs.io/projects/aiida-core/en/latest/topics/calculations/usage.html?highlight=options#options\n",
    "# for jureca for example you would like to do, the environment should be setup with the code, i.e it should not be loaded here...\n",
    "resources = {'withmpi': True, 'num_machines':1, 'num_mpiprocs_per_machine':128}\n",
    "options = {'resource': resources, 'custom_scheduler_commands' : '#SBATCH --account=ias-9', 'max_wallclock_seconds' : 5*60, 'queue_name' : 'dc-cpu'}\n",
    "\n",
    "metadata = {'label': 'My first Pfdislocjob', 'description': 'Really awesome calculation, which leads to a PhD', 'options': options}\n",
    "inputs['metadata'] = metadata\n",
    "inputs_dry_run = inputs\n",
    "inputs_dry_run['metadata']['dry-run'] = True"
   ]
  },
  {
   "cell_type": "markdown",
   "id": "f46d6c01-7448-460e-8065-a2ad6dd64e4d",
   "metadata": {},
   "source": [
    "# Launching the job"
   ]
  },
  {
   "cell_type": "markdown",
   "id": "93d55a80-7ddf-4c4f-8a62-992a4115d039",
   "metadata": {},
   "source": [
    "first we do a tryrun to check if all files and jobscripts are right"
   ]
  },
  {
   "cell_type": "code",
   "execution_count": null,
   "id": "796ac675-87b8-4c98-99aa-01816174da12",
   "metadata": {},
   "outputs": [],
   "source": [
    "pfdiscal = submit(PdfdislocCalculation, **inputs_dry_run)"
   ]
  },
  {
   "cell_type": "code",
   "execution_count": null,
   "id": "c4fb41f0-32a9-46ee-828e-e785626c7754",
   "metadata": {},
   "outputs": [],
   "source": [
    "# This will had the job to the AiiDA daemon which will run it through, i.e submit it on the computer and retrieve results\n",
    "pfdiscal = submit(PdfdislocCalculation, **inputs)"
   ]
  },
  {
   "cell_type": "code",
   "execution_count": null,
   "id": "a2268ba8-770c-4a5e-8f22-c224b1ea05db",
   "metadata": {},
   "outputs": [],
   "source": [
    "!verdi process list -a"
   ]
  },
  {
   "cell_type": "code",
   "execution_count": null,
   "id": "06f0f597-f4c5-419b-ade4-4aa17f0d3941",
   "metadata": {},
   "outputs": [],
   "source": [
    "# one can also run the job in the python interpretor in a blocking way and not hand it to the AiiDA daemon, i.e. it is blocked until the job is done and retrieved."
   ]
  },
  {
   "cell_type": "code",
   "execution_count": null,
   "id": "f1b71d86-1382-42b5-86e2-0c69bd2b53b3",
   "metadata": {},
   "outputs": [],
   "source": [
    "#res = run(PdfdislocCalculation, **inputs)"
   ]
  },
  {
   "cell_type": "markdown",
   "id": "dfae037b-b0af-4d38-9eeb-ef0ae839ff6b",
   "metadata": {},
   "source": [
    "# Alternative way, using a builder"
   ]
  },
  {
   "cell_type": "markdown",
   "id": "13412dc9-69ed-4eed-b93d-04cdaf851e14",
   "metadata": {},
   "source": [
    "Every process in aiida has a builder, which provides you with a more interactive way to do this above, without knowing all the details, so it is more 'userfiendly', since you do not need to know form where to import the calculation, or what the entry point is called to use the Factories. The builder also provides interactive help on inputs."
   ]
  },
  {
   "cell_type": "code",
   "execution_count": null,
   "id": "73ad9787-24b2-4afb-8b0a-c311914a215c",
   "metadata": {},
   "outputs": [],
   "source": [
    "pfdiscal_builder = code.get_builder()\n",
    "pfdiscal_builder.config = config_para_node\n",
    "pfdiscal_builder.model = model_file\n",
    "pfdiscal_builder.metadata.description ='My first pfdiscal simulation through a builder.'\n",
    "pfdiscal_builder.metadata.resource = resource\n",
    "pfdiscal_builder.metadata.options = options"
   ]
  },
  {
   "cell_type": "code",
   "execution_count": null,
   "id": "8a9c2b06-cb32-46f0-adc2-1d72c031021d",
   "metadata": {},
   "outputs": [],
   "source": [
    "submit(pfdiscal_builder)"
   ]
  }
 ],
 "metadata": {
  "kernelspec": {
   "display_name": "Python 3 (ipykernel)",
   "language": "python",
   "name": "python3"
  },
  "language_info": {
   "codemirror_mode": {
    "name": "ipython",
    "version": 3
   },
   "file_extension": ".py",
   "mimetype": "text/x-python",
   "name": "python",
   "nbconvert_exporter": "python",
   "pygments_lexer": "ipython3",
   "version": "3.8.10"
  }
 },
 "nbformat": 4,
 "nbformat_minor": 5
}
